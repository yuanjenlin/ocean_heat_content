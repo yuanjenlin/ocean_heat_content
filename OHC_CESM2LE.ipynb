{
 "cells": [
  {
   "cell_type": "markdown",
   "id": "83c8cd73-04f7-475f-b360-bf726ddc8d89",
   "metadata": {},
   "source": [
    "## Ocean heat content in CESM2-LE\n",
    "- Generate netCDF files that contain global ocean heat content at each level in CESM2-LE."
   ]
  },
  {
   "cell_type": "code",
   "execution_count": 1,
   "id": "28fab766-b080-4935-900f-aa6b6a5c8e21",
   "metadata": {},
   "outputs": [],
   "source": [
    "import warnings\n",
    "# warnings.filterwarnings(\"ignore\")\n",
    "import intake\n",
    "import matplotlib.pyplot as plt\n",
    "import numpy as np\n",
    "import netCDF4 as nc\n",
    "import xarray as xr\n",
    "import xesmf as xe\n",
    "# from cmip6_preprocessing.preprocessing import combined_preprocessing\n",
    "from xmip.preprocessing import combined_preprocessing\n",
    "import cartopy.crs as ccrs\n",
    "import cartopy.feature as cfeaturf\n",
    "from cartopy.util import add_cyclic_point\n",
    "from matplotlib import gridspec\n",
    "import matplotlib.pylab as pl\n",
    "import scipy.stats as ss\n",
    "import scipy.signal as sg\n",
    "import seaborn as sns\n",
    "import pandas as pd\n",
    "import zarr\n",
    "import gcsfs\n",
    "import requests\n",
    "import sys\n",
    "import gsw\n",
    "catalog = intake.open_esm_datastore('https://raw.githubusercontent.com/NCAR/cesm2-le-aws/main/intake-catalogs/aws-cesm2-le.json')\n",
    "\n",
    "def grid_area(lon,lat):\n",
    "    earth_r = 6.371*1e6\n",
    "    dlon_deg= np.append(np.diff(lon),lon[0]-lon[-1]+360.)\n",
    "    dlat_deg= np.append(np.diff(lat),np.diff(lat)[-1])\n",
    "    dlon    = np.deg2rad(dlon_deg)\n",
    "    dlat    = np.deg2rad(dlat_deg)\n",
    "    coslat  = np.cos(np.deg2rad(lat)) \n",
    "    dx      = earth_r * np.tile(coslat[:,np.newaxis], (1,len(lon))) * np.tile(dlon[np.newaxis,:],(len(lat),1))\n",
    "    dy      = earth_r * np.tile(dlat[:,np.newaxis], (1,len(lon)))\n",
    "    return (dx*dy)\n",
    "\n",
    "# consts\n",
    "t1d_lon = np.linspace(0.5, 359.5, 360) # T grid, 1 deg\n",
    "t1d_lat = np.linspace(-89.5, 89.5, 180) # T grid, 1 deg\n",
    "mon_wgt = np.array([31., 28., 31., 30., 31., 30., 31., 31., 30., 31., 30., 31.])\n",
    "cp_0    = 3991.868 # [J/kg/K] isobaric heat capacity that relates potential enthalpy to Conservative Temperature (TEOS-10)\n",
    "t1d_area= grid_area(t1d_lon, t1d_lat)"
   ]
  },
  {
   "cell_type": "code",
   "execution_count": 2,
   "id": "eb3bc143-971a-488e-9a86-731efe18e163",
   "metadata": {},
   "outputs": [
    {
     "name": "stdout",
     "output_type": "stream",
     "text": [
      "\n",
      "--> The keys in the returned dictionary of datasets are constructed as follows:\n",
      "\t'component.experiment.frequency.forcing_variant'\n"
     ]
    },
    {
     "data": {
      "text/html": [
       "\n",
       "<style>\n",
       "    /* Turns off some styling */\n",
       "    progress {\n",
       "        /* gets rid of default border in Firefox and Opera. */\n",
       "        border: none;\n",
       "        /* Needs to be in here for Safari polyfill so background images work as expected. */\n",
       "        background-size: auto;\n",
       "    }\n",
       "    progress:not([value]), progress:not([value])::-webkit-progress-bar {\n",
       "        background: repeating-linear-gradient(45deg, #7e7e7e, #7e7e7e 10px, #5c5c5c 10px, #5c5c5c 20px);\n",
       "    }\n",
       "    .progress-bar-interrupted, .progress-bar-interrupted::-webkit-progress-bar {\n",
       "        background: #F44336;\n",
       "    }\n",
       "</style>\n"
      ],
      "text/plain": [
       "<IPython.core.display.HTML object>"
      ]
     },
     "metadata": {},
     "output_type": "display_data"
    },
    {
     "data": {
      "text/html": [
       "\n",
       "    <div>\n",
       "      <progress value='1' class='' max='1' style='width:300px; height:20px; vertical-align: middle;'></progress>\n",
       "      100.00% [1/1 00:01&lt;00:00]\n",
       "    </div>\n",
       "    "
      ],
      "text/plain": [
       "<IPython.core.display.HTML object>"
      ]
     },
     "metadata": {},
     "output_type": "display_data"
    }
   ],
   "source": [
    "grid_subset = catalog.search(component='ocn', frequency='static', experiment='historical', forcing_variant='cmip6')\n",
    "grid = grid_subset.to_dataset_dict(storage_options={'anon':True})['ocn.historical.static.cmip6']\n",
    "\n",
    "# keep TLONG, TLAT, and raw data as DataArray before xESMF regridding (others are ndarray)\n",
    "TLONG, TLAT = grid.coords['TLONG'].reset_coords(drop=True), grid.coords['TLAT'].reset_coords(drop=True)\n",
    "ULONG, ULAT = grid.coords['ULONG'].reset_coords(drop=True), grid.coords['ULAT'].reset_coords(drop=True)\n",
    "TAREA       = grid.coords['TAREA'].values*1e-4 #(cm^2->m^2)\n",
    "TAREA_mod   = np.where(np.isnan(TAREA), 0., TAREA)\n",
    "\n",
    "REGION_MASK = grid.coords['REGION_MASK']\n",
    "dz          = grid.coords['dz'].values*1e-2 #(cm->m)\n",
    "\n",
    "KMT         = grid.coords['KMT'].values # k Index of Deepest Grid Cell on T Grid (note: contains NaN)\n",
    "KMT_mod     = np.where(np.isnan(KMT), 0., KMT)\n",
    "\n",
    "ocn2dpass   = np.where(REGION_MASK>0., 1., np.nan) # land=np.nan, ocn=1 (only open-ocean)\n",
    "ocn_area    = ocn2dpass*TAREA_mod\n",
    "\n",
    "ilev_1d     = np.arange(len(dz))\n",
    "ocn3dpass   = np.where(ilev_1d[:,np.newaxis,np.newaxis]>=KMT_mod[np.newaxis,:,:],np.nan,1.)\n",
    "ocn_vol     = ocn3dpass*TAREA_mod[np.newaxis,:,:]*dz[:,np.newaxis,np.newaxis]\n",
    "\n",
    "# Ocean volume regridding. Area weights applied in order to conserve the volume.\n",
    "v_re = {}\n",
    "grid_in              = {'lon': TLONG.values, 'lat': TLAT.values}\n",
    "grid_out             = {'lon': t1d_lon, 'lat': t1d_lat}\n",
    "regridder            = xe.Regridder(grid_in, grid_out, 'bilinear', periodic=True, ignore_degenerate=True)\n",
    "v_re['ocn_vol_norm'] = regridder(ocn_vol/TAREA_mod[np.newaxis,:,:], skipna=True, na_thres=.5) \n",
    "# na_thres: set to NaN only if the \"ratio\" of missing values exceeds the threshold level \n",
    "v_re['ocn_vol']      = v_re['ocn_vol_norm']*t1d_area[np.newaxis,:,:]"
   ]
  },
  {
   "cell_type": "code",
   "execution_count": 3,
   "id": "2965f874-980b-45d0-ac89-8642e65ad97b",
   "metadata": {},
   "outputs": [
    {
     "name": "stdout",
     "output_type": "stream",
     "text": [
      "\n",
      "--> The keys in the returned dictionary of datasets are constructed as follows:\n",
      "\t'component.experiment.frequency.forcing_variant'\n"
     ]
    },
    {
     "data": {
      "text/html": [
       "\n",
       "<style>\n",
       "    /* Turns off some styling */\n",
       "    progress {\n",
       "        /* gets rid of default border in Firefox and Opera. */\n",
       "        border: none;\n",
       "        /* Needs to be in here for Safari polyfill so background images work as expected. */\n",
       "        background-size: auto;\n",
       "    }\n",
       "    progress:not([value]), progress:not([value])::-webkit-progress-bar {\n",
       "        background: repeating-linear-gradient(45deg, #7e7e7e, #7e7e7e 10px, #5c5c5c 10px, #5c5c5c 20px);\n",
       "    }\n",
       "    .progress-bar-interrupted, .progress-bar-interrupted::-webkit-progress-bar {\n",
       "        background: #F44336;\n",
       "    }\n",
       "</style>\n"
      ],
      "text/plain": [
       "<IPython.core.display.HTML object>"
      ]
     },
     "metadata": {},
     "output_type": "display_data"
    },
    {
     "data": {
      "text/html": [
       "\n",
       "    <div>\n",
       "      <progress value='1' class='' max='1' style='width:300px; height:20px; vertical-align: middle;'></progress>\n",
       "      100.00% [1/1 00:00&lt;00:00]\n",
       "    </div>\n",
       "    "
      ],
      "text/plain": [
       "<IPython.core.display.HTML object>"
      ]
     },
     "metadata": {},
     "output_type": "display_data"
    },
    {
     "name": "stdout",
     "output_type": "stream",
     "text": [
      "Ensemble 1.\n",
      "\n",
      "--> The keys in the returned dictionary of datasets are constructed as follows:\n",
      "\t'component.experiment.frequency.forcing_variant'\n"
     ]
    },
    {
     "data": {
      "text/html": [
       "\n",
       "<style>\n",
       "    /* Turns off some styling */\n",
       "    progress {\n",
       "        /* gets rid of default border in Firefox and Opera. */\n",
       "        border: none;\n",
       "        /* Needs to be in here for Safari polyfill so background images work as expected. */\n",
       "        background-size: auto;\n",
       "    }\n",
       "    progress:not([value]), progress:not([value])::-webkit-progress-bar {\n",
       "        background: repeating-linear-gradient(45deg, #7e7e7e, #7e7e7e 10px, #5c5c5c 10px, #5c5c5c 20px);\n",
       "    }\n",
       "    .progress-bar-interrupted, .progress-bar-interrupted::-webkit-progress-bar {\n",
       "        background: #F44336;\n",
       "    }\n",
       "</style>\n"
      ],
      "text/plain": [
       "<IPython.core.display.HTML object>"
      ]
     },
     "metadata": {},
     "output_type": "display_data"
    },
    {
     "data": {
      "text/html": [
       "\n",
       "    <div>\n",
       "      <progress value='1' class='' max='1' style='width:300px; height:20px; vertical-align: middle;'></progress>\n",
       "      100.00% [1/1 00:00&lt;00:00]\n",
       "    </div>\n",
       "    "
      ],
      "text/plain": [
       "<IPython.core.display.HTML object>"
      ]
     },
     "metadata": {},
     "output_type": "display_data"
    },
    {
     "name": "stdout",
     "output_type": "stream",
     "text": [
      "\n",
      "--> The keys in the returned dictionary of datasets are constructed as follows:\n",
      "\t'component.experiment.frequency.forcing_variant'\n"
     ]
    },
    {
     "data": {
      "text/html": [
       "\n",
       "<style>\n",
       "    /* Turns off some styling */\n",
       "    progress {\n",
       "        /* gets rid of default border in Firefox and Opera. */\n",
       "        border: none;\n",
       "        /* Needs to be in here for Safari polyfill so background images work as expected. */\n",
       "        background-size: auto;\n",
       "    }\n",
       "    progress:not([value]), progress:not([value])::-webkit-progress-bar {\n",
       "        background: repeating-linear-gradient(45deg, #7e7e7e, #7e7e7e 10px, #5c5c5c 10px, #5c5c5c 20px);\n",
       "    }\n",
       "    .progress-bar-interrupted, .progress-bar-interrupted::-webkit-progress-bar {\n",
       "        background: #F44336;\n",
       "    }\n",
       "</style>\n"
      ],
      "text/plain": [
       "<IPython.core.display.HTML object>"
      ]
     },
     "metadata": {},
     "output_type": "display_data"
    },
    {
     "data": {
      "text/html": [
       "\n",
       "    <div>\n",
       "      <progress value='1' class='' max='1' style='width:300px; height:20px; vertical-align: middle;'></progress>\n",
       "      100.00% [1/1 00:00&lt;00:00]\n",
       "    </div>\n",
       "    "
      ],
      "text/plain": [
       "<IPython.core.display.HTML object>"
      ]
     },
     "metadata": {},
     "output_type": "display_data"
    },
    {
     "name": "stdout",
     "output_type": "stream",
     "text": [
      "\n",
      "--> The keys in the returned dictionary of datasets are constructed as follows:\n",
      "\t'component.experiment.frequency.forcing_variant'\n"
     ]
    },
    {
     "data": {
      "text/html": [
       "\n",
       "<style>\n",
       "    /* Turns off some styling */\n",
       "    progress {\n",
       "        /* gets rid of default border in Firefox and Opera. */\n",
       "        border: none;\n",
       "        /* Needs to be in here for Safari polyfill so background images work as expected. */\n",
       "        background-size: auto;\n",
       "    }\n",
       "    progress:not([value]), progress:not([value])::-webkit-progress-bar {\n",
       "        background: repeating-linear-gradient(45deg, #7e7e7e, #7e7e7e 10px, #5c5c5c 10px, #5c5c5c 20px);\n",
       "    }\n",
       "    .progress-bar-interrupted, .progress-bar-interrupted::-webkit-progress-bar {\n",
       "        background: #F44336;\n",
       "    }\n",
       "</style>\n"
      ],
      "text/plain": [
       "<IPython.core.display.HTML object>"
      ]
     },
     "metadata": {},
     "output_type": "display_data"
    },
    {
     "data": {
      "text/html": [
       "\n",
       "    <div>\n",
       "      <progress value='1' class='' max='1' style='width:300px; height:20px; vertical-align: middle;'></progress>\n",
       "      100.00% [1/1 00:00&lt;00:00]\n",
       "    </div>\n",
       "    "
      ],
      "text/plain": [
       "<IPython.core.display.HTML object>"
      ]
     },
     "metadata": {},
     "output_type": "display_data"
    },
    {
     "name": "stdout",
     "output_type": "stream",
     "text": [
      "\n",
      "--> The keys in the returned dictionary of datasets are constructed as follows:\n",
      "\t'component.experiment.frequency.forcing_variant'\n"
     ]
    },
    {
     "data": {
      "text/html": [
       "\n",
       "<style>\n",
       "    /* Turns off some styling */\n",
       "    progress {\n",
       "        /* gets rid of default border in Firefox and Opera. */\n",
       "        border: none;\n",
       "        /* Needs to be in here for Safari polyfill so background images work as expected. */\n",
       "        background-size: auto;\n",
       "    }\n",
       "    progress:not([value]), progress:not([value])::-webkit-progress-bar {\n",
       "        background: repeating-linear-gradient(45deg, #7e7e7e, #7e7e7e 10px, #5c5c5c 10px, #5c5c5c 20px);\n",
       "    }\n",
       "    .progress-bar-interrupted, .progress-bar-interrupted::-webkit-progress-bar {\n",
       "        background: #F44336;\n",
       "    }\n",
       "</style>\n"
      ],
      "text/plain": [
       "<IPython.core.display.HTML object>"
      ]
     },
     "metadata": {},
     "output_type": "display_data"
    },
    {
     "data": {
      "text/html": [
       "\n",
       "    <div>\n",
       "      <progress value='1' class='' max='1' style='width:300px; height:20px; vertical-align: middle;'></progress>\n",
       "      100.00% [1/1 00:00&lt;00:00]\n",
       "    </div>\n",
       "    "
      ],
      "text/plain": [
       "<IPython.core.display.HTML object>"
      ]
     },
     "metadata": {},
     "output_type": "display_data"
    },
    {
     "name": "stdout",
     "output_type": "stream",
     "text": [
      "/home/jovyan/OHU/processed_data/OHC_2004-01_2021-12_r10i1181p1f1.nc\n"
     ]
    }
   ],
   "source": [
    "comp    = 'ocn' # atm, ocn, ice, lnd...\n",
    "iv_ls   = ['TEMP', 'SALT']\n",
    "\n",
    "ie1     = 'historical'\n",
    "ie2     = 'ssp370'\n",
    "\n",
    "tsta = \"2004-01\"\n",
    "tend = \"2021-12\"\n",
    "nyr  = 2021-2004+1\n",
    "nt   = nyr*12\n",
    "cat  = catalog.search(variable='TEMP', frequency='monthly', experiment=ie1, forcing_variant='cmip6')\n",
    "dset = cat.to_dataset_dict(storage_options={'anon':True})[comp+'.'+ie1+'.monthly.cmip6']['TEMP']\n",
    "m_ls = dset.coords['member_id'].values\n",
    "\n",
    "# Select the range of the ensembles for the following OHC calculations\n",
    "msta = 0\n",
    "mend = 1\n",
    " \n",
    "for imN in range(msta,mend,1):\n",
    "    im = m_ls[imN]\n",
    "    print(f'Ensemble {imN+1:d}.')\n",
    "    v  = {}\n",
    "    for iv in iv_ls:\n",
    "        # historical temperature data under smbb forcing not available in cesm2-le-aws (Sep 26, 2023)\n",
    "        cat        = catalog.search(variable=iv, frequency='monthly', experiment=ie1, forcing_variant='cmip6')\n",
    "        dset_dict1 = cat.to_dataset_dict(storage_options={'anon':True})\n",
    "        cat        = catalog.search(variable=iv, frequency='monthly', experiment=ie2, forcing_variant='cmip6')\n",
    "        dset_dict2 = cat.to_dataset_dict(storage_options={'anon':True})\n",
    "        v[iv]      = xr.concat([dset_dict1[comp+'.'+ie1+'.monthly.cmip6'][iv].sel(time=slice(tsta,\"2014-12\"), member_id=im), dset_dict2[comp+'.'+ie2+'.monthly.cmip6'][iv].sel(time=slice(\"2015-01\",tend), member_id=im)], dim=\"time\")\n",
    "    for iv in iv_ls:\n",
    "        grid_in    = {'lon': TLONG, 'lat': TLAT}\n",
    "        grid_out   = {'lon': t1d_lon, 'lat': t1d_lat}\n",
    "        regridder  = xe.Regridder(grid_in, grid_out, 'bilinear', periodic=True, ignore_degenerate=True)\n",
    "        v_re[iv]   = regridder(v[iv], skipna=True, na_thres=.5) # na_thres: set to NaN only if the \"ratio\" of missing values exceeds the threshold level\n",
    "\n",
    "    # get values (slow; ~1 min for each ensemble)\n",
    "    v_re['pt'] = v_re['TEMP'].values\n",
    "    v_re['sp'] = v_re['SALT'].values\n",
    "    # anomalies relative to the whole-period averages\n",
    "    v_re['pt_cl']  = np.average(v_re['pt'].reshape(-1,12,len(dz),len(t1d_lat),len(t1d_lon)),axis=0)\n",
    "    v_re['pt_an']  = v_re['pt'].reshape(-1,12,len(dz),len(t1d_lat),len(t1d_lon)) - v_re['pt_cl'][np.newaxis,...]\n",
    "    \n",
    "    # Compute in-situ density and ocean heat content at each level\n",
    "    z_t              = v['TEMP']['z_t'].values*1e-2 #(cm->m)\n",
    "    lev_, lat_, lon_ = np.broadcast_arrays(z_t[:,np.newaxis,np.newaxis], t1d_lat[np.newaxis,:,np.newaxis], t1d_lon[np.newaxis,np.newaxis,:])\n",
    "    v_re['p']        = gsw.p_from_z(-lev_, lat_)\n",
    "\n",
    "    v_re['ohc_lev']  = np.full((nt,len(z_t),len(t1d_lat),len(t1d_lon)), np.nan, np.float32)\n",
    "    for iy in range(nt):\n",
    "        # print(iy)\n",
    "        v_sa_iy  = gsw.SA_from_SP(v_re['sp'][iy,...], v_re['p'], lon_, lat_)\n",
    "        v_ct_iy  = gsw.CT_from_pt(v_sa_iy, v_re['pt'][iy,...])\n",
    "        v_rho_iy = gsw.density.rho(v_sa_iy, v_ct_iy, v_re['p'])\n",
    "        v_re['ohc_lev'][iy,:,:,:] = cp_0*v_rho_iy*v_re['pt_an'].reshape(-1,len(dz),len(t1d_lat),len(t1d_lon))[iy,:,:,:]*v_re['ocn_vol']\n",
    "    \n",
    "    v_re['ohc_lev_ann'] = np.average(v_re['ohc_lev'].reshape(-1,12,len(dz),len(t1d_lat),len(t1d_lon)),axis=1,weights=mon_wgt)\n",
    "    # --- Save\n",
    "    out_f_name = '/home/jovyan/OHU/processed_data/OHC_'+tsta+'_'+tend+'_'+str(im)+'.nc'\n",
    "    print(out_f_name)\n",
    "    out_ds = nc.Dataset(out_f_name, 'w', format='NETCDF4')\n",
    "    out_ds.createDimension('time', nyr)\n",
    "    out_ds.createDimension('lev', len(z_t))\n",
    "    out_ds.createDimension('lat', len(t1d_lat))\n",
    "    out_ds.createDimension('lon', len(t1d_lon))        \n",
    "    out_ds.description = 'Annual-mean OHC anomaly from '+tsta+' to '+tend+' in emsemble member - '+str(im)+' of CESM2 LE. Reference State is the average of the whole period.'\n",
    "    time   = out_ds.createVariable('time', 'f4', ('time',))\n",
    "    lev    = out_ds.createVariable('lev', 'f4', ('lev',))\n",
    "    lat    = out_ds.createVariable('lat', 'f4', ('lat',))\n",
    "    lon    = out_ds.createVariable('lon', 'f4', ('lon',))\n",
    "    time[:]   = np.arange(nyr)\n",
    "    lev[:]    = z_t\n",
    "    lat[:]    = t1d_lat\n",
    "    lon[:]    = t1d_lon\n",
    "    out_v1               = out_ds.createVariable('ohc_lev_ann', 'f4', ('time', 'lev', 'lat', 'lon'))        \n",
    "    out_v1.units         = 'J'\n",
    "    out_v1.standard_name = 'OHC'\n",
    "    out_v1[:]            = v_re['ohc_lev_ann']\n",
    "    out_ds.close()"
   ]
  },
  {
   "cell_type": "code",
   "execution_count": null,
   "id": "f2223710-7712-4b98-a681-068073405a2c",
   "metadata": {},
   "outputs": [],
   "source": []
  }
 ],
 "metadata": {
  "kernelspec": {
   "display_name": "Python 3 (ipykernel)",
   "language": "python",
   "name": "python3"
  },
  "language_info": {
   "codemirror_mode": {
    "name": "ipython",
    "version": 3
   },
   "file_extension": ".py",
   "mimetype": "text/x-python",
   "name": "python",
   "nbconvert_exporter": "python",
   "pygments_lexer": "ipython3",
   "version": "3.10.8"
  }
 },
 "nbformat": 4,
 "nbformat_minor": 5
}
